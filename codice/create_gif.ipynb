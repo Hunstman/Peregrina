{
 "cells": [
  {
   "cell_type": "code",
   "execution_count": 3,
   "id": "3dac1028",
   "metadata": {},
   "outputs": [],
   "source": [
    "import matplotlib.pyplot as plt\n",
    "import imageio\n",
    "import numpy as np"
   ]
  },
  {
   "cell_type": "code",
   "execution_count": 17,
   "id": "bfb8aa9c",
   "metadata": {},
   "outputs": [
    {
     "name": "stdout",
     "output_type": "stream",
     "text": [
      "[ 0  1  2  3  4  5  6  7  8  9 10 11 12]\n"
     ]
    }
   ],
   "source": [
    "# Create gif\n",
    "frames = []\n",
    "time = np.arange(0,13,1)\n",
    "print(time)\n",
    "for t in time:\n",
    "    image = imageio.imread(f'single_frame/brown_grey_italy_{t}.png')\n",
    "    frames.append(image)\n",
    "    \n",
    "\n",
    "# Save gif\n",
    "imageio.mimsave('./Path_html.gif', # output gif\n",
    "                frames,          # array of input frames\n",
    "                fps = 2)         # optional: frames per second"
   ]
  },
  {
   "cell_type": "code",
   "execution_count": null,
   "id": "4ea5676a",
   "metadata": {},
   "outputs": [],
   "source": []
  }
 ],
 "metadata": {
  "kernelspec": {
   "display_name": "Python 3",
   "language": "python",
   "name": "python3"
  },
  "language_info": {
   "codemirror_mode": {
    "name": "ipython",
    "version": 3
   },
   "file_extension": ".py",
   "mimetype": "text/x-python",
   "name": "python",
   "nbconvert_exporter": "python",
   "pygments_lexer": "ipython3",
   "version": "3.8.8"
  }
 },
 "nbformat": 4,
 "nbformat_minor": 5
}
